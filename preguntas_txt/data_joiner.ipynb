{
 "cells": [
  {
   "cell_type": "code",
   "execution_count": 10,
   "id": "401aaacb",
   "metadata": {},
   "outputs": [],
   "source": [
    "import csv\n",
    "import os\n",
    "import re  # Importar expresiones regulares para manejar separadores inconsistentes\n",
    "\n",
    "def transformar_correcta(valor):\n",
    "    \"\"\"Transforma la letra de la respuesta correcta en un valor numérico.\"\"\"\n",
    "    mapeo = {'a': 1, 'b': 2, 'c': 3, 'd': 4}\n",
    "    return mapeo.get(valor.lower(), 0)  # Devuelve 0 si no encuentra la clave\n",
    "\n",
    "def procesar_archivo_txt(archivo_txt):\n",
    "    \"\"\"Procesa un archivo .txt y devuelve una lista de datos procesados.\"\"\"\n",
    "    datos_procesados = []\n",
    "    nombre_normativa = os.path.splitext(os.path.basename(archivo_txt))[0]  # Obtener el nombre del archivo sin la extensión\n",
    "\n",
    "    with open(archivo_txt, 'r', encoding='utf-8') as file:\n",
    "        lineas = file.readlines()\n",
    "\n",
    "    for i, linea in enumerate(lineas, start=1):\n",
    "        try:\n",
    "            # Dividir por comas que pueden o no tener espacio después, considerando comillas\n",
    "            partes = re.split(r'\"\\s*,\\s*\"', linea.strip())\n",
    "            \n",
    "            if len(partes) == 7:  # Verificar que la línea tiene exactamente 7 campos\n",
    "                pregunta, respuesta_a, respuesta_b, respuesta_c, respuesta_d, correcta, justificacion = partes\n",
    "\n",
    "                # Limpiar las comillas iniciales y finales\n",
    "                pregunta = pregunta.strip('\"')\n",
    "                respuesta_a = respuesta_a.strip('\"')\n",
    "                respuesta_b = respuesta_b.strip('\"')\n",
    "                respuesta_c = respuesta_c.strip('\"')\n",
    "                respuesta_d = respuesta_d.strip('\"')\n",
    "                justificacion = justificacion.strip('\"')\n",
    "\n",
    "                # Transformar la respuesta correcta a número\n",
    "                correcta_numerica = transformar_correcta(correcta)\n",
    "\n",
    "                # Añadir el campo 'normativa' con el nombre del archivo\n",
    "                datos_procesados.append([\n",
    "                    pregunta, respuesta_a, respuesta_b, respuesta_c, respuesta_d,\n",
    "                    correcta_numerica, justificacion, nombre_normativa\n",
    "                ])\n",
    "            else:\n",
    "                print(f\"Formato incorrecto en la línea {i} del archivo {archivo_txt}: {linea.strip()} (Campos detectados: {len(partes)})\")\n",
    "        except Exception as e:\n",
    "            print(f\"Error al procesar la línea {i} del archivo {archivo_txt}: {linea.strip()}\\nDetalles del error: {e}\")\n",
    "\n",
    "    return datos_procesados\n",
    "\n",
    "def guardar_datos_en_csv(datos_totales, archivo_csv):\n",
    "    \"\"\"Guarda todos los datos procesados en un archivo .csv sin encabezado.\"\"\"\n",
    "    with open(archivo_csv, 'w', newline='', encoding='utf-8') as file:\n",
    "        escritor_csv = csv.writer(file)\n",
    "        escritor_csv.writerows(datos_totales)  # Escribir todas las líneas de datos sin encabezado\n",
    "\n",
    "def main():\n",
    "    # Obtener la ruta del directorio actual\n",
    "    directorio_actual = os.getcwd()\n",
    "    print(f\"Directorio actual: {directorio_actual}\")\n",
    "    \n",
    "    # Listar todos los archivos .txt en el directorio actual\n",
    "    archivos_txt = [archivo for archivo in os.listdir(directorio_actual) if archivo.endswith('.txt')]\n",
    "    \n",
    "    # Procesar todos los archivos .txt y combinar los datos\n",
    "    datos_totales = []\n",
    "    for archivo_txt in archivos_txt:\n",
    "        print(f\"Procesando archivo: {archivo_txt}\")\n",
    "        ruta_archivo = os.path.join(directorio_actual, archivo_txt)\n",
    "        datos_procesados = procesar_archivo_txt(ruta_archivo)\n",
    "        datos_totales.extend(datos_procesados)\n",
    "    \n",
    "    # Guardar todos los datos procesados en un único archivo .csv\n",
    "    archivo_csv = os.path.join(directorio_actual, 'preguntas_test.csv')\n",
    "    guardar_datos_en_csv(datos_totales, archivo_csv)\n",
    "    \n",
    "    print(f\"Se han procesado {len(archivos_txt)} archivos .txt y los datos se han guardado en {archivo_csv}.\")\n"
   ]
  },
  {
   "cell_type": "code",
   "execution_count": 11,
   "id": "9ae18618",
   "metadata": {},
   "outputs": [
    {
     "name": "stdout",
     "output_type": "stream",
     "text": [
      "Directorio actual: C:\\Users\\Kuma\\Documents\\Django_projects\\Opositorium\\preguntas_txt\n",
      "Procesando archivo: Constitución Española.txt\n",
      "Procesando archivo: Estatuto de Autonomia de les Illes Balears.txt\n",
      "Procesando archivo: Ley de Bases de Régimen Local.txt\n",
      "Procesando archivo: Ley municipal y de régimen local de las Illes Balears.txt\n",
      "Procesando archivo: Ley Reguladora de las Haciendas Locales.txt\n",
      "Procesando archivo: Unión Europea.txt\n",
      "Se han procesado 6 archivos .txt y los datos se han guardado en C:\\Users\\Kuma\\Documents\\Django_projects\\Opositorium\\preguntas_txt\\preguntas_procesadas.csv.\n"
     ]
    }
   ],
   "source": [
    "main()"
   ]
  }
 ],
 "metadata": {
  "kernelspec": {
   "display_name": "Python 3 (ipykernel)",
   "language": "python",
   "name": "python3"
  },
  "language_info": {
   "codemirror_mode": {
    "name": "ipython",
    "version": 3
   },
   "file_extension": ".py",
   "mimetype": "text/x-python",
   "name": "python",
   "nbconvert_exporter": "python",
   "pygments_lexer": "ipython3",
   "version": "3.9.12"
  }
 },
 "nbformat": 4,
 "nbformat_minor": 5
}
